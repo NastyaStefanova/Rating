{
 "cells": [
  {
   "cell_type": "code",
   "execution_count": 1,
   "metadata": {},
   "outputs": [],
   "source": [
    "import pandas as pd\n",
    "\n",
    "from snowflake.sqlalchemy import URL\n",
    "from sqlalchemy import create_engine\n",
    "\n",
    "from datetime import date, timedelta\n",
    "from pathlib import Path\n",
    "\n",
    "import numpy as np"
   ]
  },
  {
   "cell_type": "code",
   "execution_count": 2,
   "metadata": {},
   "outputs": [],
   "source": [
    "import seaborn as sns\n",
    "%matplotlib inline\n",
    "import matplotlib.pyplot as plt"
   ]
  },
  {
   "cell_type": "code",
   "execution_count": 3,
   "metadata": {},
   "outputs": [],
   "source": [
    "import math"
   ]
  },
  {
   "cell_type": "code",
   "execution_count": 4,
   "metadata": {},
   "outputs": [],
   "source": [
    "pd.set_option('display.max_columns', None)"
   ]
  },
  {
   "cell_type": "markdown",
   "metadata": {},
   "source": [
    "# Банки"
   ]
  },
  {
   "cell_type": "markdown",
   "metadata": {},
   "source": [
    "Запрос для формирования таблицы по всем отзывам банков за последние 5 лет:"
   ]
  },
  {
   "cell_type": "code",
   "execution_count": 5,
   "metadata": {},
   "outputs": [],
   "source": [
    "query = '''\n",
    "\tSELECT DISTINCT\n",
    "\t\tR.ID,\n",
    "\t\tCAST(R.\"DATE\" AS date) AS \"DATE\",\n",
    "\t\tR.USERID,\n",
    "\t\tORM.\"NAME\" AS ORGANIZATION_NAME,\n",
    "\t\tORM.ALIAS AS ORGANIZATION_ALIAS,\n",
    "\t\tCASE \n",
    "\t\t\tWHEN R.REVIEWOBJECTTYPEID = 1 THEN 'Banks'\n",
    "\t\t\tWHEN R.REVIEWOBJECTTYPEID = 6 THEN 'InsuranceCompany'\n",
    "\t\t\tWHEN R.REVIEWOBJECTTYPEID = 10 THEN 'MFI'\n",
    "\t\t\tELSE NULL\n",
    "\t\tEND AS REVIEW_OBJECT_TYPE,\n",
    "\t\tR.PARENT,\n",
    "\t\tR.ROOT,\n",
    "\t\tR.RATING,\n",
    "\t\tR.RATINGCOUNTED,\n",
    "\t\tR.COUNTEDRATING,\n",
    "\t\tCASE \n",
    "\t\t\tWHEN COUNTEDRATING IN (1, 2) THEN 1\n",
    "\t\t\tELSE NULL\n",
    "\t\tEND\tAS BAD_REVIEWS,\n",
    "\t\tCASE \n",
    "\t\t\tWHEN COUNTEDRATING IN (3, 4, 5) THEN 1\n",
    "\t\t\tELSE NULL\n",
    "\t\tEND AS GOOD_REVIEWS,\n",
    "\t\tR.PROBLEMSOLVED,\n",
    "\t\tR.PROBLEMSOLUTIONDATE,\n",
    "\t\tR.ISRECOMMENDEDBYUSER,\n",
    "\t\tR.MODERATIONREASON,\n",
    "\t\tR.UTMSOURCE || '|' || R.UTMMEDIUM SOURCE_MEDIUM,\n",
    "\t\tR.COMMENTSCOUNT,\n",
    "\t\tR.HASCOMPANYRESPONSE,\n",
    "\t\tR.MODERATIONREASON\n",
    "\tFROM ODS_BATCH.REVIEWS.REVIEWS R\n",
    "\tLEFT JOIN ODS_BATCH.REVIEWS.ORGANIZATIONREADMODELS ORM\n",
    "\t\tON R.REVIEWOBJECTID = ORM.ID\n",
    "\tWHERE R.REVIEWOBJECTTYPEID = 1\n",
    "\tAND \"DATE\" >= DATEADD(year, -5, CURRENT_DATE())\n",
    "\tAND PARENT IS NULL\n",
    "\tAND RATINGCOUNTED = 1\n",
    "\tAND R.COUNTEDRATING IN (1, 2, 3, 4, 5)\n",
    "    '''"
   ]
  },
  {
   "cell_type": "markdown",
   "metadata": {},
   "source": [
    "Подключение к snowflake и вывод таблицы:"
   ]
  },
  {
   "cell_type": "code",
   "execution_count": 7,
   "metadata": {},
   "outputs": [],
   "source": [
    "rank_data = pd.io.sql.read_sql(query, con = engine)"
   ]
  },
  {
   "cell_type": "markdown",
   "metadata": {},
   "source": [
    "Приводим дату к формату даты, добавляем сегодняшний день и считаем разницу между сегодняшним днем и днем написания отзыва:"
   ]
  },
  {
   "cell_type": "code",
   "execution_count": 8,
   "metadata": {},
   "outputs": [],
   "source": [
    "rank_data['date'] = pd.to_datetime(rank_data['date'])\n",
    "\n",
    "today = pd.to_datetime(date.today())\n",
    "\n",
    "rank_data['days_to_today'] = today -  rank_data['date']\n",
    "\n",
    "rank_data['days_to_today'] = rank_data['days_to_today'].dt.days"
   ]
  },
  {
   "cell_type": "markdown",
   "metadata": {},
   "source": [
    "## Считаем временной коэффициент:"
   ]
  },
  {
   "attachments": {
    "image.png": {
     "image/png": "[encoded data removed]"
    }
   },
   "cell_type": "markdown",
   "metadata": {},
   "source": [
    "![image.png](attachment:image.png)"
   ]
  },
  {
   "cell_type": "code",
   "execution_count": 9,
   "metadata": {},
   "outputs": [],
   "source": [
    "def time_koef(days):\n",
    "    if days > 181:\n",
    "        k = 1.5*(math.e**(-0.0045*(days-90)))\n",
    "    if days <= 181:\n",
    "        k = 1\n",
    "    return k"
   ]
  },
  {
   "cell_type": "code",
   "execution_count": 10,
   "metadata": {},
   "outputs": [],
   "source": [
    "rank_data['time_koef'] = rank_data['days_to_today'].apply(time_koef)"
   ]
  },
  {
   "cell_type": "markdown",
   "metadata": {},
   "source": [
    "График зависимости временного коэффициента от прошедших дней со дня написания отзыва:"
   ]
  },
  {
   "cell_type": "code",
   "execution_count": 11,
   "metadata": {},
   "outputs": [
    {
     "data": {
      "image/png": "[encoded data removed]",
      "text/plain": [
       "<Figure size 432x288 with 1 Axes>"
      ]
     },
     "metadata": {
      "needs_background": "light"
     },
     "output_type": "display_data"
    }
   ],
   "source": [
    "sns.lineplot(x='days_to_today',y='time_koef',data=rank_data);"
   ]
  },
  {
   "cell_type": "markdown",
   "metadata": {},
   "source": [
    "## Коэффициенты для \"проблема решена\" и \"есть официальный ответ\":"
   ]
  },
  {
   "cell_type": "code",
   "execution_count": 12,
   "metadata": {},
   "outputs": [],
   "source": [
    "def problem_solved_coef(problem_solved):\n",
    "    if problem_solved == 1:\n",
    "        coef = 1.7\n",
    "    else:\n",
    "        coef = 1\n",
    "    return coef"
   ]
  },
  {
   "cell_type": "code",
   "execution_count": 13,
   "metadata": {},
   "outputs": [],
   "source": [
    "rank_data['problem_solved_coef'] = rank_data['problemsolved'].apply(problem_solved_coef)"
   ]
  },
  {
   "cell_type": "code",
   "execution_count": 14,
   "metadata": {},
   "outputs": [
    {
     "data": {
      "text/plain": [
       "1.0    8100\n",
       "1.7    1059\n",
       "Name: problem_solved_coef, dtype: int64"
      ]
     },
     "execution_count": 14,
     "metadata": {},
     "output_type": "execute_result"
    }
   ],
   "source": [
    "rank_data['problem_solved_coef'].value_counts()"
   ]
  },
  {
   "cell_type": "code",
   "execution_count": 15,
   "metadata": {},
   "outputs": [],
   "source": [
    "def company_response_coef(hascompanyresponse):\n",
    "    if hascompanyresponse == 1:\n",
    "        coef = 1.2\n",
    "    else:\n",
    "        coef = 1\n",
    "    return coef"
   ]
  },
  {
   "cell_type": "code",
   "execution_count": 16,
   "metadata": {},
   "outputs": [],
   "source": [
    "rank_data['company_response_coef'] = rank_data['hascompanyresponse'].apply(company_response_coef)"
   ]
  },
  {
   "cell_type": "code",
   "execution_count": 17,
   "metadata": {},
   "outputs": [
    {
     "data": {
      "text/plain": [
       "1.0    5538\n",
       "1.2    3621\n",
       "Name: company_response_coef, dtype: int64"
      ]
     },
     "execution_count": 17,
     "metadata": {},
     "output_type": "execute_result"
    }
   ],
   "source": [
    "rank_data['company_response_coef'].value_counts()"
   ]
  },
  {
   "cell_type": "markdown",
   "metadata": {},
   "source": [
    "## Считаем рейтинг конкретного отзыва"
   ]
  },
  {
   "cell_type": "markdown",
   "metadata": {},
   "source": [
    "### Рейтинг отзыва = \n",
    "        Проверенная оценка от пользователя * \n",
    "        Коэффициент \"Проблема решена\" *\n",
    "        Коэффициент \"Есть оф ответ\" * \n",
    "        Временной коэффициент"
   ]
  },
  {
   "cell_type": "code",
   "execution_count": 18,
   "metadata": {},
   "outputs": [],
   "source": [
    "rank_data['final_rating'] = (rank_data['countedrating'] * rank_data['problem_solved_coef'] * rank_data['company_response_coef']\n",
    "                        * rank_data['time_koef'])"
   ]
  },
  {
   "cell_type": "markdown",
   "metadata": {},
   "source": [
    "## Группируем данные по банкам для расчета рейтинга банка:"
   ]
  },
  {
   "cell_type": "code",
   "execution_count": 21,
   "metadata": {},
   "outputs": [],
   "source": [
    "banks_data = (rank_data.groupby('organization_name')\n",
    "            .agg({'final_rating':'sum','time_koef':'sum','id':'count','problemsolved':'sum'\n",
    "                  ,'hascompanyresponse':'sum','rating':'mean'}))"
   ]
  },
  {
   "cell_type": "markdown",
   "metadata": {},
   "source": [
    "### Считаем функцию количества отзывов:"
   ]
  },
  {
   "attachments": {
    "image.png": {
     "image/png": "[encoded data removed]"
    }
   },
   "cell_type": "markdown",
   "metadata": {},
   "source": [
    "![image.png](attachment:image.png)"
   ]
  },
  {
   "cell_type": "code",
   "execution_count": 22,
   "metadata": {},
   "outputs": [],
   "source": [
    "def reviews_function(num_reviews):\n",
    "    if num_reviews < 1600:\n",
    "        f = num_reviews * 0.00033 + 0.3\n",
    "    if num_reviews >= 1600:\n",
    "        f = ((math.log(num_reviews,2) + 10.32)/50) + 0.4836\n",
    "    return f"
   ]
  },
  {
   "cell_type": "code",
   "execution_count": 23,
   "metadata": {},
   "outputs": [],
   "source": [
    "banks_data['reviews_function'] = banks_data['id'].apply(reviews_function)"
   ]
  },
  {
   "cell_type": "markdown",
   "metadata": {},
   "source": [
    "График значения коэффициента от количества отзывов у банка:"
   ]
  },
  {
   "cell_type": "code",
   "execution_count": 24,
   "metadata": {},
   "outputs": [
    {
     "data": {
      "image/png": "[encoded data removed]",
      "text/plain": [
       "<Figure size 432x288 with 1 Axes>"
      ]
     },
     "metadata": {
      "needs_background": "light"
     },
     "output_type": "display_data"
    }
   ],
   "source": [
    "sns.lineplot(x='id',y='reviews_function',data=banks_data);"
   ]
  },
  {
   "cell_type": "markdown",
   "metadata": {},
   "source": [
    "### Среднее текущее значение рейтинга с учетом фактора времени"
   ]
  },
  {
   "attachments": {
    "image.png": {
     "image/png": "[encoded data removed]"
    }
   },
   "cell_type": "markdown",
   "metadata": {},
   "source": [
    "![image.png](attachment:image.png)"
   ]
  },
  {
   "cell_type": "code",
   "execution_count": 25,
   "metadata": {},
   "outputs": [],
   "source": [
    "C = banks_data['final_rating'].sum()/banks_data['time_koef'].sum()"
   ]
  },
  {
   "cell_type": "markdown",
   "metadata": {},
   "source": [
    "## Считаем финальный рейтинг"
   ]
  },
  {
   "attachments": {
    "image.png": {
     "image/png": "[encoded data removed]"
    }
   },
   "cell_type": "markdown",
   "metadata": {},
   "source": [
    "![image.png](attachment:image.png)"
   ]
  },
  {
   "cell_type": "code",
   "execution_count": 26,
   "metadata": {},
   "outputs": [],
   "source": [
    "banks_data['final_final'] = ((banks_data['final_rating']+C*35)/(banks_data['time_koef']+35)-1)*35*banks_data['reviews_function']"
   ]
  },
  {
   "cell_type": "code",
   "execution_count": 27,
   "metadata": {},
   "outputs": [],
   "source": [
    "banks_data.columns = ['final_rating','time_koef','n_reviews','n_solved','n_responses','avg_client_rating','reviews_function','final_final']"
   ]
  },
  {
   "cell_type": "code",
   "execution_count": 28,
   "metadata": {},
   "outputs": [
    {
     "data": {
      "text/html": [
       "<div>\n",
       "<style scoped>\n",
       "    .dataframe tbody tr th:only-of-type {\n",
       "        vertical-align: middle;\n",
       "    }\n",
       "\n",
       "    .dataframe tbody tr th {\n",
       "        vertical-align: top;\n",
       "    }\n",
       "\n",
       "    .dataframe thead th {\n",
       "        text-align: right;\n",
       "    }\n",
       "</style>\n",
       "<table border=\"1\" class=\"dataframe\">\n",
       "  <thead>\n",
       "    <tr style=\"text-align: right;\">\n",
       "      <th></th>\n",
       "      <th>final_rating</th>\n",
       "      <th>time_koef</th>\n",
       "      <th>n_reviews</th>\n",
       "      <th>n_solved</th>\n",
       "      <th>n_responses</th>\n",
       "      <th>avg_client_rating</th>\n",
       "      <th>reviews_function</th>\n",
       "      <th>final_final</th>\n",
       "    </tr>\n",
       "    <tr>\n",
       "      <th>organization_name</th>\n",
       "      <th></th>\n",
       "      <th></th>\n",
       "      <th></th>\n",
       "      <th></th>\n",
       "      <th></th>\n",
       "      <th></th>\n",
       "      <th></th>\n",
       "      <th></th>\n",
       "    </tr>\n",
       "  </thead>\n",
       "  <tbody>\n",
       "    <tr>\n",
       "      <th>Совкомбанк</th>\n",
       "      <td>1091.763446</td>\n",
       "      <td>204.442645</td>\n",
       "      <td>448</td>\n",
       "      <td>69.0</td>\n",
       "      <td>444.0</td>\n",
       "      <td>3.379464</td>\n",
       "      <td>0.44784</td>\n",
       "      <td>64.389812</td>\n",
       "    </tr>\n",
       "    <tr>\n",
       "      <th>Тинькофф Банк</th>\n",
       "      <td>901.444056</td>\n",
       "      <td>171.719250</td>\n",
       "      <td>420</td>\n",
       "      <td>102.0</td>\n",
       "      <td>408.0</td>\n",
       "      <td>3.511905</td>\n",
       "      <td>0.43860</td>\n",
       "      <td>61.340720</td>\n",
       "    </tr>\n",
       "    <tr>\n",
       "      <th>ФК Открытие</th>\n",
       "      <td>1491.828248</td>\n",
       "      <td>321.907441</td>\n",
       "      <td>578</td>\n",
       "      <td>92.0</td>\n",
       "      <td>0.0</td>\n",
       "      <td>3.612457</td>\n",
       "      <td>0.49074</td>\n",
       "      <td>60.935919</td>\n",
       "    </tr>\n",
       "    <tr>\n",
       "      <th>Газпромбанк</th>\n",
       "      <td>835.294296</td>\n",
       "      <td>174.641273</td>\n",
       "      <td>305</td>\n",
       "      <td>133.0</td>\n",
       "      <td>272.0</td>\n",
       "      <td>2.986885</td>\n",
       "      <td>0.40065</td>\n",
       "      <td>50.632033</td>\n",
       "    </tr>\n",
       "    <tr>\n",
       "      <th>Центр-инвест</th>\n",
       "      <td>437.979526</td>\n",
       "      <td>90.138596</td>\n",
       "      <td>220</td>\n",
       "      <td>2.0</td>\n",
       "      <td>0.0</td>\n",
       "      <td>4.645455</td>\n",
       "      <td>0.37260</td>\n",
       "      <td>46.285021</td>\n",
       "    </tr>\n",
       "    <tr>\n",
       "      <th>Сбербанк</th>\n",
       "      <td>645.178269</td>\n",
       "      <td>227.508247</td>\n",
       "      <td>848</td>\n",
       "      <td>25.0</td>\n",
       "      <td>0.0</td>\n",
       "      <td>2.308962</td>\n",
       "      <td>0.57984</td>\n",
       "      <td>39.734806</td>\n",
       "    </tr>\n",
       "    <tr>\n",
       "      <th>Уральский Банк реконструкции и развития</th>\n",
       "      <td>134.624604</td>\n",
       "      <td>27.454596</td>\n",
       "      <td>111</td>\n",
       "      <td>8.0</td>\n",
       "      <td>104.0</td>\n",
       "      <td>3.666667</td>\n",
       "      <td>0.33663</td>\n",
       "      <td>38.384596</td>\n",
       "    </tr>\n",
       "    <tr>\n",
       "      <th>Банк «Санкт-Петербург»</th>\n",
       "      <td>182.842311</td>\n",
       "      <td>39.601122</td>\n",
       "      <td>95</td>\n",
       "      <td>3.0</td>\n",
       "      <td>20.0</td>\n",
       "      <td>4.010526</td>\n",
       "      <td>0.33135</td>\n",
       "      <td>37.238310</td>\n",
       "    </tr>\n",
       "    <tr>\n",
       "      <th>Российский капитал</th>\n",
       "      <td>402.495811</td>\n",
       "      <td>100.693632</td>\n",
       "      <td>183</td>\n",
       "      <td>18.0</td>\n",
       "      <td>5.0</td>\n",
       "      <td>3.830601</td>\n",
       "      <td>0.36039</td>\n",
       "      <td>37.006322</td>\n",
       "    </tr>\n",
       "    <tr>\n",
       "      <th>Модульбанк</th>\n",
       "      <td>131.287529</td>\n",
       "      <td>28.339751</td>\n",
       "      <td>90</td>\n",
       "      <td>1.0</td>\n",
       "      <td>0.0</td>\n",
       "      <td>4.477778</td>\n",
       "      <td>0.32970</td>\n",
       "      <td>36.299801</td>\n",
       "    </tr>\n",
       "    <tr>\n",
       "      <th>Заубер Банк</th>\n",
       "      <td>102.244417</td>\n",
       "      <td>18.749601</td>\n",
       "      <td>22</td>\n",
       "      <td>0.0</td>\n",
       "      <td>14.0</td>\n",
       "      <td>4.363636</td>\n",
       "      <td>0.30726</td>\n",
       "      <td>35.972956</td>\n",
       "    </tr>\n",
       "    <tr>\n",
       "      <th>Альфа-Банк</th>\n",
       "      <td>415.031414</td>\n",
       "      <td>131.057405</td>\n",
       "      <td>439</td>\n",
       "      <td>105.0</td>\n",
       "      <td>192.0</td>\n",
       "      <td>2.514806</td>\n",
       "      <td>0.44487</td>\n",
       "      <td>35.656575</td>\n",
       "    </tr>\n",
       "    <tr>\n",
       "      <th>Энергомашбанк</th>\n",
       "      <td>134.825319</td>\n",
       "      <td>27.800106</td>\n",
       "      <td>44</td>\n",
       "      <td>2.0</td>\n",
       "      <td>0.0</td>\n",
       "      <td>4.750000</td>\n",
       "      <td>0.31452</td>\n",
       "      <td>35.640787</td>\n",
       "    </tr>\n",
       "    <tr>\n",
       "      <th>Новикомбанк</th>\n",
       "      <td>125.222909</td>\n",
       "      <td>25.180957</td>\n",
       "      <td>27</td>\n",
       "      <td>1.0</td>\n",
       "      <td>0.0</td>\n",
       "      <td>4.740741</td>\n",
       "      <td>0.30891</td>\n",
       "      <td>35.273954</td>\n",
       "    </tr>\n",
       "    <tr>\n",
       "      <th>МТС-Банк</th>\n",
       "      <td>312.828497</td>\n",
       "      <td>88.436415</td>\n",
       "      <td>263</td>\n",
       "      <td>68.0</td>\n",
       "      <td>224.0</td>\n",
       "      <td>2.631179</td>\n",
       "      <td>0.38679</td>\n",
       "      <td>35.171290</td>\n",
       "    </tr>\n",
       "    <tr>\n",
       "      <th>Восточный экспресс Банк</th>\n",
       "      <td>268.489250</td>\n",
       "      <td>83.300255</td>\n",
       "      <td>362</td>\n",
       "      <td>89.0</td>\n",
       "      <td>333.0</td>\n",
       "      <td>1.687845</td>\n",
       "      <td>0.41946</td>\n",
       "      <td>34.932883</td>\n",
       "    </tr>\n",
       "    <tr>\n",
       "      <th>СКБ-Банк</th>\n",
       "      <td>133.615454</td>\n",
       "      <td>30.246580</td>\n",
       "      <td>56</td>\n",
       "      <td>2.0</td>\n",
       "      <td>21.0</td>\n",
       "      <td>3.250000</td>\n",
       "      <td>0.31848</td>\n",
       "      <td>34.111668</td>\n",
       "    </tr>\n",
       "    <tr>\n",
       "      <th>Росбанк</th>\n",
       "      <td>149.613171</td>\n",
       "      <td>39.072940</td>\n",
       "      <td>146</td>\n",
       "      <td>22.0</td>\n",
       "      <td>123.0</td>\n",
       "      <td>2.500000</td>\n",
       "      <td>0.34818</td>\n",
       "      <td>34.028861</td>\n",
       "    </tr>\n",
       "    <tr>\n",
       "      <th>Развитие-столица</th>\n",
       "      <td>62.685107</td>\n",
       "      <td>11.443911</td>\n",
       "      <td>13</td>\n",
       "      <td>0.0</td>\n",
       "      <td>6.0</td>\n",
       "      <td>5.000000</td>\n",
       "      <td>0.30429</td>\n",
       "      <td>33.832992</td>\n",
       "    </tr>\n",
       "    <tr>\n",
       "      <th>БыстроБанк</th>\n",
       "      <td>154.130556</td>\n",
       "      <td>35.498727</td>\n",
       "      <td>50</td>\n",
       "      <td>2.0</td>\n",
       "      <td>1.0</td>\n",
       "      <td>3.760000</td>\n",
       "      <td>0.31650</td>\n",
       "      <td>33.772354</td>\n",
       "    </tr>\n",
       "  </tbody>\n",
       "</table>\n",
       "</div>"
      ],
      "text/plain": [
       "                                         final_rating   time_koef  n_reviews  \\\n",
       "organization_name                                                              \n",
       "Совкомбанк                                1091.763446  204.442645        448   \n",
       "Тинькофф Банк                              901.444056  171.719250        420   \n",
       "ФК Открытие                               1491.828248  321.907441        578   \n",
       "Газпромбанк                                835.294296  174.641273        305   \n",
       "Центр-инвест                               437.979526   90.138596        220   \n",
       "Сбербанк                                   645.178269  227.508247        848   \n",
       "Уральский Банк реконструкции и развития    134.624604   27.454596        111   \n",
       "Банк «Санкт-Петербург»                     182.842311   39.601122         95   \n",
       "Российский капитал                         402.495811  100.693632        183   \n",
       "Модульбанк                                 131.287529   28.339751         90   \n",
       "Заубер Банк                                102.244417   18.749601         22   \n",
       "Альфа-Банк                                 415.031414  131.057405        439   \n",
       "Энергомашбанк                              134.825319   27.800106         44   \n",
       "Новикомбанк                                125.222909   25.180957         27   \n",
       "МТС-Банк                                   312.828497   88.436415        263   \n",
       "Восточный экспресс Банк                    268.489250   83.300255        362   \n",
       "СКБ-Банк                                   133.615454   30.246580         56   \n",
       "Росбанк                                    149.613171   39.072940        146   \n",
       "Развитие-столица                            62.685107   11.443911         13   \n",
       "БыстроБанк                                 154.130556   35.498727         50   \n",
       "\n",
       "                                         n_solved  n_responses  \\\n",
       "organization_name                                                \n",
       "Совкомбанк                                   69.0        444.0   \n",
       "Тинькофф Банк                               102.0        408.0   \n",
       "ФК Открытие                                  92.0          0.0   \n",
       "Газпромбанк                                 133.0        272.0   \n",
       "Центр-инвест                                  2.0          0.0   \n",
       "Сбербанк                                     25.0          0.0   \n",
       "Уральский Банк реконструкции и развития       8.0        104.0   \n",
       "Банк «Санкт-Петербург»                        3.0         20.0   \n",
       "Российский капитал                           18.0          5.0   \n",
       "Модульбанк                                    1.0          0.0   \n",
       "Заубер Банк                                   0.0         14.0   \n",
       "Альфа-Банк                                  105.0        192.0   \n",
       "Энергомашбанк                                 2.0          0.0   \n",
       "Новикомбанк                                   1.0          0.0   \n",
       "МТС-Банк                                     68.0        224.0   \n",
       "Восточный экспресс Банк                      89.0        333.0   \n",
       "СКБ-Банк                                      2.0         21.0   \n",
       "Росбанк                                      22.0        123.0   \n",
       "Развитие-столица                              0.0          6.0   \n",
       "БыстроБанк                                    2.0          1.0   \n",
       "\n",
       "                                         avg_client_rating  reviews_function  \\\n",
       "organization_name                                                              \n",
       "Совкомбанк                                        3.379464           0.44784   \n",
       "Тинькофф Банк                                     3.511905           0.43860   \n",
       "ФК Открытие                                       3.612457           0.49074   \n",
       "Газпромбанк                                       2.986885           0.40065   \n",
       "Центр-инвест                                      4.645455           0.37260   \n",
       "Сбербанк                                          2.308962           0.57984   \n",
       "Уральский Банк реконструкции и развития           3.666667           0.33663   \n",
       "Банк «Санкт-Петербург»                            4.010526           0.33135   \n",
       "Российский капитал                                3.830601           0.36039   \n",
       "Модульбанк                                        4.477778           0.32970   \n",
       "Заубер Банк                                       4.363636           0.30726   \n",
       "Альфа-Банк                                        2.514806           0.44487   \n",
       "Энергомашбанк                                     4.750000           0.31452   \n",
       "Новикомбанк                                       4.740741           0.30891   \n",
       "МТС-Банк                                          2.631179           0.38679   \n",
       "Восточный экспресс Банк                           1.687845           0.41946   \n",
       "СКБ-Банк                                          3.250000           0.31848   \n",
       "Росбанк                                           2.500000           0.34818   \n",
       "Развитие-столица                                  5.000000           0.30429   \n",
       "БыстроБанк                                        3.760000           0.31650   \n",
       "\n",
       "                                         final_final  \n",
       "organization_name                                     \n",
       "Совкомбанк                                 64.389812  \n",
       "Тинькофф Банк                              61.340720  \n",
       "ФК Открытие                                60.935919  \n",
       "Газпромбанк                                50.632033  \n",
       "Центр-инвест                               46.285021  \n",
       "Сбербанк                                   39.734806  \n",
       "Уральский Банк реконструкции и развития    38.384596  \n",
       "Банк «Санкт-Петербург»                     37.238310  \n",
       "Российский капитал                         37.006322  \n",
       "Модульбанк                                 36.299801  \n",
       "Заубер Банк                                35.972956  \n",
       "Альфа-Банк                                 35.656575  \n",
       "Энергомашбанк                              35.640787  \n",
       "Новикомбанк                                35.273954  \n",
       "МТС-Банк                                   35.171290  \n",
       "Восточный экспресс Банк                    34.932883  \n",
       "СКБ-Банк                                   34.111668  \n",
       "Росбанк                                    34.028861  \n",
       "Развитие-столица                           33.832992  \n",
       "БыстроБанк                                 33.772354  "
      ]
     },
     "execution_count": 28,
     "metadata": {},
     "output_type": "execute_result"
    }
   ],
   "source": [
    "banks_data.sort_values('final_final',ascending=False).head(20)"
   ]
  },
  {
   "cell_type": "code",
   "execution_count": null,
   "metadata": {},
   "outputs": [],
   "source": []
  }
 ],
 "metadata": {
  "kernelspec": {
   "display_name": "Python 3",
   "language": "python",
   "name": "python3"
  },
  "language_info": {
   "codemirror_mode": {
    "name": "ipython",
    "version": 3
   },
   "file_extension": ".py",
   "mimetype": "text/x-python",
   "name": "python",
   "nbconvert_exporter": "python",
   "pygments_lexer": "ipython3",
   "version": "3.7.6"
  }
 },
 "nbformat": 4,
 "nbformat_minor": 4
}
